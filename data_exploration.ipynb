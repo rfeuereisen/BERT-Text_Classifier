{
 "cells": [
  {
   "cell_type": "code",
   "execution_count": 28,
   "metadata": {},
   "outputs": [],
   "source": [
    "import pandas as pd\n",
    "import numpy as np"
   ]
  },
  {
   "cell_type": "markdown",
   "metadata": {},
   "source": [
    "## Elije el tipo de dato"
   ]
  },
  {
   "cell_type": "code",
   "execution_count": 34,
   "metadata": {},
   "outputs": [],
   "source": [
    "\n",
    "# Se define una variable que indica el tipo de dato con el que se trabajará. \n",
    "tipo_dato = \"nivel_2\""
   ]
  },
  {
   "cell_type": "code",
   "execution_count": 35,
   "metadata": {},
   "outputs": [
    {
     "name": "stdout",
     "output_type": "stream",
     "text": [
      "Tenemos 31475 ejemplos originalmente\n",
      "Tenemos 0 textos vacíos\n",
      "Tenemos 458 labels vacíos\n"
     ]
    }
   ],
   "source": [
    "# Se carga un conjunto de datos desde un archivo CSV \n",
    "df = pd.read_csv(f\"data/{tipo_dato}.csv\", encoding=\"ISO-8859-1\")\n",
    "\n",
    "# Convertir todos los valores en el DataFrame a cadenas de texto.\n",
    "df=df.applymap(str)\n",
    "\n",
    "# Se eliminan los espacios en blanco en los valores de la columna \"label\"\n",
    "df['label'] = df['label'].apply(lambda x: x.strip())\n",
    "\n",
    "# Se reemplazan las cadenas \"nan\" por valores NaN en la columna \"label\".\n",
    "df['label'] = df['label'].replace('nan', np.nan)\n",
    "print(f\"Tenemos {df.shape[0]} ejemplos originalmente\")\n",
    "\n",
    "# Elimina las filas con campos de texto y etiquetas vacíos.\n",
    "df_empty_text_removed = df.dropna(subset=\"text\")\n",
    "df_empty_label_removed = df.dropna(subset=\"label\")\n",
    "print(f\"Tenemos {df.shape[0]-df_empty_text_removed.shape[0]} textos vacíos\")\n",
    "print(f\"Tenemos {df.shape[0]-df_empty_label_removed.shape[0]} labels vacíos\")"
   ]
  },
  {
   "cell_type": "code",
   "execution_count": 36,
   "metadata": {},
   "outputs": [
    {
     "name": "stdout",
     "output_type": "stream",
     "text": [
      "Tenemos 0 ejemplos duplicados\n"
     ]
    }
   ],
   "source": [
    "df.dropna(subset=\"text\", inplace=True)\n",
    "df.dropna(subset=\"label\", inplace=True)\n",
    "\n",
    "# Muestra el recuento de etiquetas en el conjunto de datos.\n",
    "df_labels = df['label'].value_counts().rename_axis('unique_values').reset_index(name='counts')\n",
    "df_labels.to_csv(f\"data/labels_{tipo_dato}.csv\", index=False)\n",
    "\n",
    "# Elimina las filas duplicadas del conjunto de datos original.\n",
    "df_cleaned = df.drop_duplicates()\n",
    "print(f\"Tenemos {df.shape[0] - df_cleaned.shape[0]} ejemplos duplicados\")"
   ]
  },
  {
   "cell_type": "code",
   "execution_count": 37,
   "metadata": {},
   "outputs": [
    {
     "name": "stdout",
     "output_type": "stream",
     "text": [
      "Limitando a un mínimo de 200 ejemplos tendríamos un 91.02427700938195% deltotal de datos y 30 categories (inicialmente 121)\n"
     ]
    }
   ],
   "source": [
    "# Filtra las etiquetas con un recuento mayor a 200 ejemplos.\n",
    "df_gt = df_labels.loc[df_labels['counts'] > 200]\n",
    "\n",
    "# Se imprime el porcentaje de ejemplos que representarían estas etiquetas filtradas y la cantidad de categorías resultantes.\n",
    "print(f\"Limitando a un mínimo de 200 ejemplos tendríamos un {(df_gt['counts'].sum()*100)/df_labels['counts'].sum()}% del\" +\\\n",
    "      f\"total de datos y {df_gt.shape[0]} categories (inicialmente {df_labels.shape[0]})\")"
   ]
  },
  {
   "cell_type": "code",
   "execution_count": null,
   "metadata": {},
   "outputs": [],
   "source": [
    "'''\n",
    "Este cuaderno de Jupyter se utiliza para cargar, limpiar y analizar un conjunto de datos, centrándose en la limpieza de valores nulos, \n",
    "la eliminación de ejemplos duplicados y el análisis de las etiquetas presentes en los datos. \n",
    "También se guarda información relevante en archivos CSV para su uso posterior. \n",
    "El propósito de estas acciones es comprender y preparar el conjunto de datos para tareas de clasificación.\n",
    "'''"
   ]
  }
 ],
 "metadata": {
  "kernelspec": {
   "display_name": "woof",
   "language": "python",
   "name": "python3"
  },
  "language_info": {
   "codemirror_mode": {
    "name": "ipython",
    "version": 3
   },
   "file_extension": ".py",
   "mimetype": "text/x-python",
   "name": "python",
   "nbconvert_exporter": "python",
   "pygments_lexer": "ipython3",
   "version": "3.8.17"
  },
  "orig_nbformat": 4
 },
 "nbformat": 4,
 "nbformat_minor": 2
}
